{
  "nbformat": 4,
  "nbformat_minor": 0,
  "metadata": {
    "colab": {
      "provenance": []
    },
    "kernelspec": {
      "name": "python3",
      "display_name": "Python 3"
    },
    "language_info": {
      "name": "python"
    }
  },
  "cells": [
    {
      "cell_type": "markdown",
      "source": [
        "## Task 01:\n",
        "\n",
        "Print Your Name with your Father name and Date of birth using suitable escape sequence charactor\n",
        "\n"
      ],
      "metadata": {
        "id": "bb0O0xtk1v9t"
      }
    },
    {
      "cell_type": "code",
      "source": [
        "print(\"Name: Syed Muhammad Shoaib Naqvi\",\"Father Name: Syed Muhammad Ather Naqvi\",\"Date of birth: 31-01-1999\",sep=\"\\n\")"
      ],
      "metadata": {
        "id": "U7LLGIkO2Ixa",
        "colab": {
          "base_uri": "https://localhost:8080/"
        },
        "outputId": "0efd019b-23ed-46ce-cfe1-adfab11e2225"
      },
      "execution_count": 2,
      "outputs": [
        {
          "output_type": "stream",
          "name": "stdout",
          "text": [
            "Name: Syed Muhammad Shoaib Naqvi\n",
            "Father Name: Syed Muhammad Ather Naqvi\n",
            "Date of birth: 31-01-1999\n"
          ]
        }
      ]
    },
    {
      "cell_type": "markdown",
      "source": [
        "# Task 02:\n",
        "\n",
        "Write your small bio using variables and print it using print function"
      ],
      "metadata": {
        "id": "TU-xwiLV2NgB"
      }
    },
    {
      "cell_type": "code",
      "source": [
        "Name=\"Syed Muhammad Shoaib Naqvi\"\n",
        "Age=25\n",
        "Qualified=\"BCOM\"\n",
        "Current_Qualification=\"Undergraduate (BSCS 5th Semester)\"\n",
        "University=\"PAF KIET\"\n",
        "Course=\"SMIT and Datacamp\"\n",
        "print(\"Name: \",Name,\"\\nAge: \",Age,\"\\nQualified: \",Qualified,\"\\nCurrent qualification: \",Current_Qualification,\"\\nCourse: \",Course)\n"
      ],
      "metadata": {
        "id": "Dw8w3rwl2wDB",
        "colab": {
          "base_uri": "https://localhost:8080/"
        },
        "outputId": "7eebfaf4-2ea9-445e-c4d7-1811b79239f6"
      },
      "execution_count": 18,
      "outputs": [
        {
          "output_type": "stream",
          "name": "stdout",
          "text": [
            "Name:  Syed Muhammad Shoaib Naqvi \t\n",
            "Age:  25 \t\t\t\n",
            "Qualified:  BCOM \n",
            "Current qualification:  Undergraduate (BSCS 5th Semester) \n",
            "Course:  SMIT and Datacamp\n"
          ]
        }
      ]
    },
    {
      "cell_type": "markdown",
      "source": [
        "# Task 03:\n",
        "\n",
        "Write a program in which use all the operators we can use in Python"
      ],
      "metadata": {
        "id": "F2lcZuDe2ztv"
      }
    },
    {
      "cell_type": "code",
      "source": [
        "num1=int(input(\"Enter first number:\"))\n",
        "num2=int(input(\"Enter second number:\"))\n",
        "print(num1+num2,num1-num2,num1*num2,num1/num2,num1%num2,num1**num2,num1//num2,sep=\"\\n\")"
      ],
      "metadata": {
        "id": "lEJhzsXh3e7K",
        "colab": {
          "base_uri": "https://localhost:8080/"
        },
        "outputId": "732dff78-ba5c-4139-9728-f20a9ffeb892"
      },
      "execution_count": 25,
      "outputs": [
        {
          "output_type": "stream",
          "name": "stdout",
          "text": [
            "Enter first number:2\n",
            "Enter second number:2\n",
            "4\n",
            "0\n",
            "4\n",
            "1.0\n",
            "0\n",
            "4\n",
            "1\n"
          ]
        }
      ]
    },
    {
      "cell_type": "markdown",
      "source": [
        "# Task 04:\n",
        "\n",
        "\n",
        "1. Mention Marks of English , Islamiat and Maths out of 100 in 3 different variables\n",
        "\n",
        "2. Mention Variable of Total Marks and assign 300 to it\n",
        "\n",
        "3. Calculate Percentage"
      ],
      "metadata": {
        "id": "i4N14TJU3l7n"
      }
    },
    {
      "cell_type": "code",
      "source": [
        "English=98\n",
        "Islamiat=95\n",
        "Maths=99\n",
        "Total=(English+Islamiat+Maths)\n",
        "Percentage=(Total/300)*100\n",
        "print(\"Percentage= \",Percentage,end=\"%\")"
      ],
      "metadata": {
        "id": "nxojzvRg5PP4",
        "colab": {
          "base_uri": "https://localhost:8080/"
        },
        "outputId": "1c29c288-7463-4e19-87a3-fa6e83cf83b1"
      },
      "execution_count": 34,
      "outputs": [
        {
          "output_type": "stream",
          "name": "stdout",
          "text": [
            "Percentage=  97.33333333333334%"
          ]
        }
      ]
    }
  ]
}