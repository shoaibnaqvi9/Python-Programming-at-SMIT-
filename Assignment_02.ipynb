{
  "cells": [
    {
      "cell_type": "markdown",
      "metadata": {
        "id": "WOqSopbqJMBM"
      },
      "source": [
        "1) A company decided to give bonus of 5% to employee if his/her year of service is more than 5 years.\n",
        "Ask user for their salary and year of service and print the net bonus amount."
      ]
    },
    {
      "cell_type": "code",
      "execution_count": null,
      "metadata": {
        "colab": {
          "base_uri": "https://localhost:8080/"
        },
        "id": "ykB2egaHJMBO",
        "outputId": "e8408623-f4e3-476f-90f8-7ce2bfd16503"
      },
      "outputs": [
        {
          "output_type": "stream",
          "name": "stdout",
          "text": [
            "Enter employee salary: 100\n",
            "Enter employee year of service: 4\n",
            "Employee:  100 \n",
            "Year of service:  4 \n",
            "Not a bonus\n"
          ]
        }
      ],
      "source": [
        "emp_sal=int(input(\"Enter employee salary: \"))\n",
        "year_service=int(input(\"Enter employee year of service: \"))\n",
        "if year_service>5:\n",
        "  net_bonus= emp_sal + (emp_sal*0.05)\n",
        "  print(\"Employee: \", emp_sal,\"\\nYear of service: \", year_service, \"\\nBonus: \", net_bonus)\n",
        "else:\n",
        "  print(\"Employee: \", emp_sal,\"\\nYear of service: \", year_service, \"\\nNot a bonus\")"
      ]
    },
    {
      "cell_type": "markdown",
      "metadata": {
        "id": "Eq0jOPNNJMBO"
      },
      "source": [
        "\n",
        "2) Write a program to check whether a person is eligible for voting or not. (accept age from user) if age is greater than 17 eligible otherwise not eligible"
      ]
    },
    {
      "cell_type": "code",
      "execution_count": null,
      "metadata": {
        "colab": {
          "base_uri": "https://localhost:8080/"
        },
        "id": "TGoqvRItJMBO",
        "outputId": "6fe42c73-e086-446e-fb09-d8042f21aad5"
      },
      "outputs": [
        {
          "output_type": "stream",
          "name": "stdout",
          "text": [
            "Enter your age: 10\n",
            "You are not eligible for voting\n"
          ]
        }
      ],
      "source": [
        "age=int(input(\"Enter your age: \"))\n",
        "if age>=18:\n",
        "  print(\"You are eligible for voting\")\n",
        "else:\n",
        "  print(\"You are not eligible for voting\")"
      ]
    },
    {
      "cell_type": "markdown",
      "metadata": {
        "id": "pvkokoi1JMBO"
      },
      "source": [
        "\n",
        "3) Write a program to check whether a number entered by user is even or odd."
      ]
    },
    {
      "cell_type": "code",
      "execution_count": null,
      "metadata": {
        "colab": {
          "base_uri": "https://localhost:8080/"
        },
        "id": "7269OPNYJMBP",
        "outputId": "75994ae0-a13f-4ba8-d17f-1480f47e9ab8"
      },
      "outputs": [
        {
          "output_type": "stream",
          "name": "stdout",
          "text": [
            "Enter any number: 14\n",
            "Number is even\n"
          ]
        }
      ],
      "source": [
        "num=int(input(\"Enter any number: \"))\n",
        "if num%2==0:\n",
        "  print(\"Number is even\")\n",
        "else:\n",
        "  print(\"Number is odd\")"
      ]
    },
    {
      "cell_type": "markdown",
      "metadata": {
        "id": "WOWLWhPpJMBP"
      },
      "source": [
        "4) Write a program to check whether a number is divisible by 7 or not.\n",
        "Show Answer"
      ]
    },
    {
      "cell_type": "code",
      "execution_count": null,
      "metadata": {
        "colab": {
          "base_uri": "https://localhost:8080/"
        },
        "id": "84xZvB1dJMBP",
        "outputId": "563cb134-1a5f-4dc7-a258-6dd27526918d"
      },
      "outputs": [
        {
          "output_type": "stream",
          "name": "stdout",
          "text": [
            "Enter any number: 21\n",
            "Number is divisible by 7\n"
          ]
        }
      ],
      "source": [
        "num=int(input(\"Enter any number: \"))\n",
        "if num%7==0:\n",
        "  print(\"Number is divisible by 7\")\n",
        "else:\n",
        "  print(\"Number is not divisible by 7\")"
      ]
    },
    {
      "cell_type": "markdown",
      "metadata": {
        "id": "KRHN71CqJMBP"
      },
      "source": [
        "5) Write a program to display\n",
        "\"Hello\" if a number entered by user is a multiple of five , otherwise print \"Bye\"."
      ]
    },
    {
      "cell_type": "code",
      "execution_count": null,
      "metadata": {
        "colab": {
          "base_uri": "https://localhost:8080/"
        },
        "id": "UcDChIxPJMBP",
        "outputId": "99ea86b7-b915-466f-8c52-5b12217b1d17"
      },
      "outputs": [
        {
          "output_type": "stream",
          "name": "stdout",
          "text": [
            "Enter any number: 15\n",
            "Hello\n"
          ]
        }
      ],
      "source": [
        "num=int(input(\"Enter any number: \"))\n",
        "if num%5==0:\n",
        "  print(\"Hello\")\n",
        "else:\n",
        "  print(\"Bye\")"
      ]
    },
    {
      "cell_type": "markdown",
      "metadata": {
        "id": "vAl99LuCJMBP"
      },
      "source": [
        "7) Write a program to display the last digit of a number.\n"
      ]
    },
    {
      "cell_type": "code",
      "execution_count": 20,
      "metadata": {
        "id": "hVSsOQwhJMBP",
        "colab": {
          "base_uri": "https://localhost:8080/"
        },
        "outputId": "f72ad975-3de3-4175-bf70-19c3a32f68eb"
      },
      "outputs": [
        {
          "output_type": "stream",
          "name": "stdout",
          "text": [
            "Enter a number: 2222131\n",
            "The last digit of the number is: 1\n"
          ]
        }
      ],
      "source": [
        "num = int(input(\"Enter a number: \"))\n",
        "\n",
        "last_digit = num % 10\n",
        "\n",
        "print(\"The last digit of the number is:\", last_digit)"
      ]
    },
    {
      "cell_type": "markdown",
      "metadata": {
        "id": "YiOb-K5xJMBP"
      },
      "source": [
        "9) Take values of length and breadth of a rectangle from user and print if it is square or rectangle."
      ]
    },
    {
      "cell_type": "code",
      "execution_count": null,
      "metadata": {
        "colab": {
          "base_uri": "https://localhost:8080/"
        },
        "id": "VBj9-ypJJMBQ",
        "outputId": "3e2d89e8-b379-4436-c3e7-a6ca528a2012"
      },
      "outputs": [
        {
          "output_type": "stream",
          "name": "stdout",
          "text": [
            "Enter length of a rectangle: 2\n",
            "Enter breadth of a rectangle: 5\n",
            "Rectangle\n"
          ]
        }
      ],
      "source": [
        "length=int(input(\"Enter length of a rectangle: \"))\n",
        "breadth=int(input(\"Enter breadth of a rectangle: \"))\n",
        "if length == breadth:\n",
        "  print(\"Square\")\n",
        "else:\n",
        "  print(\"Rectangle\")"
      ]
    },
    {
      "cell_type": "markdown",
      "metadata": {
        "id": "aNPfnR2eJMBQ"
      },
      "source": [
        "10) Take two int values from user and print greatest among them."
      ]
    },
    {
      "cell_type": "code",
      "execution_count": null,
      "metadata": {
        "colab": {
          "base_uri": "https://localhost:8080/"
        },
        "id": "3gXSoGUXJMBQ",
        "outputId": "ad22fdd9-6d4b-4577-a959-9896e9590b3d"
      },
      "outputs": [
        {
          "output_type": "stream",
          "name": "stdout",
          "text": [
            "Enter first number: 3\n",
            "Enter second number: 2\n",
            "3\n"
          ]
        }
      ],
      "source": [
        "num1=int(input(\"Enter first number: \"))\n",
        "num2=int(input(\"Enter second number: \"))\n",
        "if num1>num2:\n",
        "  print(num1)\n",
        "elif num2>num1:\n",
        "  print(num2)\n",
        "else:\n",
        "  print(\"Equal\")"
      ]
    },
    {
      "cell_type": "markdown",
      "metadata": {
        "id": "YKBZKFrFJMBQ"
      },
      "source": [
        "11) A shop will give discount of 10% if the cost of purchased quantity is more than 1000.\n",
        "Ask user for quantity\n",
        "Suppose, one unit will cost 100.\n",
        "Judge and print total cost for user."
      ]
    },
    {
      "cell_type": "code",
      "execution_count": null,
      "metadata": {
        "colab": {
          "base_uri": "https://localhost:8080/"
        },
        "id": "a593d4qMJMBQ",
        "outputId": "5d596fe6-32b3-4c21-ab51-80e865565d7c"
      },
      "outputs": [
        {
          "output_type": "stream",
          "name": "stdout",
          "text": [
            "Enter quantity in units: 100\n",
            "Total discounted cost:  9000.0\n"
          ]
        }
      ],
      "source": [
        "quantity=int(input(\"Enter quantity in units: \"))\n",
        "unit=100\n",
        "Total_cost=quantity*unit\n",
        "if Total_cost>1000:\n",
        "  Total_After_Discount=Total_cost-(Total_cost*0.10)\n",
        "  print(\"Total discounted cost: \",Total_After_Discount)\n",
        "else:\n",
        "  print(\"Total cost: \",Total_cost)"
      ]
    },
    {
      "cell_type": "markdown",
      "metadata": {
        "id": "ZKt1AJxNJMBQ"
      },
      "source": [
        "12) A school has following rules for grading system:\n",
        "\n",
        "a. Below 25 - F\n",
        "\n",
        "b. 25 to 45 - E\n",
        "\n",
        "c. 45 to 50 - D\n",
        "\n",
        "d. 50 to 60 - C\n",
        "\n",
        "e. 60 to 80 - B\n",
        "\n",
        "f. Above 80 - A\n",
        "\n",
        "Ask user to enter marks and print the corresponding grade."
      ]
    },
    {
      "cell_type": "code",
      "execution_count": null,
      "metadata": {
        "colab": {
          "base_uri": "https://localhost:8080/"
        },
        "id": "zCY6GS9MJMBQ",
        "outputId": "d819ce2e-6816-4f4c-8470-8f84f8eaea81"
      },
      "outputs": [
        {
          "output_type": "stream",
          "name": "stdout",
          "text": [
            "Enter maths marks: 80\n",
            "Enter physics marks: 80\n",
            "Enter chemistry marks: 80\n",
            "A\n"
          ]
        }
      ],
      "source": [
        "maths=int(input(\"Enter maths marks: \"))\n",
        "phy=int(input(\"Enter physics marks: \"))\n",
        "chem=int(input(\"Enter chemistry marks: \"))\n",
        "Total_marks=maths+phy+chem\n",
        "percentage=(Total_marks/300)*100\n",
        "if percentage<25:\n",
        "  print(\"F\")\n",
        "elif percentage>=25 and percentage<45:\n",
        "  print(\"E\")\n",
        "elif percentage>=45 and percentage<50:\n",
        "  print(\"D\")\n",
        "elif percentage>=50 and percentage<60:\n",
        "  print(\"C\")\n",
        "elif percentage>=60 and percentage<80:\n",
        "  print(\"B\")\n",
        "else:\n",
        "  print(\"A\")"
      ]
    },
    {
      "cell_type": "markdown",
      "metadata": {
        "id": "ri_6WWDoJMBQ"
      },
      "source": [
        "14)A student will not be allowed to sit in exam if his/her attendence is less than 75%.\n",
        "\n",
        "Take following input from user\n",
        "\n",
        "Number of classes held\n",
        "\n",
        "Number of classes attended.\n",
        "\n",
        "And print\n",
        "\n",
        "percentage of class attended\n",
        "\n",
        "Is student is allowed to sit in exam or not.\n"
      ]
    },
    {
      "cell_type": "code",
      "execution_count": null,
      "metadata": {
        "colab": {
          "base_uri": "https://localhost:8080/"
        },
        "id": "3zYE6TJlJMBQ",
        "outputId": "a50b26e3-7c12-48bb-9caa-f5fe0b6d0863"
      },
      "outputs": [
        {
          "output_type": "stream",
          "name": "stdout",
          "text": [
            "Enter number of held classes: 4\n",
            "Enter number of attended classes: 3\n",
            "Percentage=  75.0 % \n",
            "Student is allowed to sit in exam\n"
          ]
        }
      ],
      "source": [
        "Number_of_classes_held=int(input(\"Enter number of held classes: \"))\n",
        "Number_of_classes_attended=int(input(\"Enter number of attended classes: \"))\n",
        "if Number_of_classes_held>=Number_of_classes_attended:\n",
        "  percentage= (Number_of_classes_attended/Number_of_classes_held)*100\n",
        "  if percentage>=75:\n",
        "    print(\"Percentage= \",percentage,\"%\",\"\\nStudent is allowed to sit in exam\")\n",
        "  else:\n",
        "    print(\"Student is not allowed!\\nAttendance not upto the mark 75%\")\n",
        "else:\n",
        "  print(\"Input error! held classes must be equal or greater than attend classes\")"
      ]
    },
    {
      "cell_type": "markdown",
      "metadata": {
        "id": "m4sAGW0aJMBQ"
      },
      "source": [
        "15) Modify the above question to allow student to sit if he/she has medical cause. Ask user if he/she has medical cause or not ( 'Y' or 'N' ) and print accordingly."
      ]
    },
    {
      "cell_type": "code",
      "execution_count": null,
      "metadata": {
        "colab": {
          "base_uri": "https://localhost:8080/"
        },
        "id": "zHMy7lfMJMBR",
        "outputId": "87223a7b-b20a-4b5e-afae-2d0905733638"
      },
      "outputs": [
        {
          "output_type": "stream",
          "name": "stdout",
          "text": [
            "Enter number of held classes: 8\n",
            "Enter number of attended classes: 7\n",
            "Enter 'Y' or 'N': N\n",
            "Student is not allowed due to medical issue!\n"
          ]
        }
      ],
      "source": [
        "Number_of_classes_held=int(input(\"Enter number of held classes: \"))\n",
        "Number_of_classes_attended=int(input(\"Enter number of attended classes: \"))\n",
        "if Number_of_classes_held>=Number_of_classes_attended:\n",
        "  percentage= (Number_of_classes_attended/Number_of_classes_held)*100\n",
        "  if percentage>=75:\n",
        "    medical_cause=input(\"Enter 'Y' or 'N': \")\n",
        "    if medical_cause=='Y':\n",
        "      print(\"Percentage= \",percentage,\"%\",\"\\nStudent is allowed to sit in exam\")\n",
        "    elif medical_cause=='N':\n",
        "      print(\"Student is not allowed due to medical issue!\")\n",
        "  else:\n",
        "    print(\"Student is not allowed!\\nAttendance not upto the mark 75%\")\n",
        "else:\n",
        "  print(\"Input error! held classes must be equal or greater than attend classes\")"
      ]
    },
    {
      "cell_type": "markdown",
      "metadata": {
        "id": "emo5C0-7JMBR"
      },
      "source": [
        "16) Write a program to check if a year is leap year or not.\n",
        "\n",
        "If a year is divisible by 4 then it is leap year but if the year is century year like 2000, 1900, 2100 then it must be divisible by 400."
      ]
    },
    {
      "cell_type": "code",
      "execution_count": null,
      "metadata": {
        "colab": {
          "base_uri": "https://localhost:8080/"
        },
        "id": "7p_ZjNDNJMBR",
        "outputId": "2b9a8244-4d3f-437f-ce6e-52f78f5ce8bd"
      },
      "outputs": [
        {
          "output_type": "stream",
          "name": "stdout",
          "text": [
            "Enter year: 1900\n",
            "Leap year\n"
          ]
        }
      ],
      "source": [
        "year=int(input(\"Enter year: \"))\n",
        "if (year%4==0) or (year%400==0):\n",
        "  print(\"Leap year\")\n",
        "else:\n",
        "  print(\"Not a leap year\")"
      ]
    },
    {
      "cell_type": "markdown",
      "metadata": {
        "id": "UTWfJwzTJMBR"
      },
      "source": [
        "17) Ask user to enter age, gender ( M or F ), marital status ( Y or N ) and then using following rules print their place of service.\n",
        "\n",
        "if employee is female, then she will work only in urban areas.\n",
        "\n",
        "if employee is a male and age is in between 20 to 40 then he may work in anywhere\n",
        "\n",
        "if employee is male and age is in between 40 t0 60 then he will work in urban areas only.\n",
        "\n",
        "And any other input of age should print \"ERROR\""
      ]
    },
    {
      "cell_type": "code",
      "execution_count": 18,
      "metadata": {
        "id": "Fa4u6sNkJMBR",
        "colab": {
          "base_uri": "https://localhost:8080/"
        },
        "outputId": "4409c7a3-95f0-4fd7-85b4-74f813e7429c"
      },
      "outputs": [
        {
          "output_type": "stream",
          "name": "stdout",
          "text": [
            "Enter your age:20\n",
            "Enter your gender ('M' or 'F'):f\n",
            "Enter your marital status ( Y or N):y\n",
            "Work only in urban areas\n"
          ]
        }
      ],
      "source": [
        "age = int(input(\"Enter your age:\"))\n",
        "gender = input(\"Enter your gender ('M' or 'F'):\")\n",
        "marital_status = input(\"Enter your marital status ( Y or N):\")\n",
        "\n",
        "if (gender=='f' or gender=='F') and (marital_status=='Y' or marital_status=='y' or marital_status=='N' or marital_status=='n'):\n",
        "  print(\"Work only in urban areas\")\n",
        "\n",
        "elif (age>=20 or age<40) and (gender=='m' or gender=='M'):\n",
        "  print(\"Work anywhere\")\n",
        "\n",
        "elif (age>=40 or age<60) and (gender=='m' or gender=='M'):\n",
        "  print(\"Work only in urban areas\")\n",
        "\n",
        "else:\n",
        "  print(\"ERROR\")"
      ]
    },
    {
      "cell_type": "markdown",
      "metadata": {
        "id": "a9FguPJjJMBR"
      },
      "source": [
        "6) Write a program to calculate the electricity bill (accept number of unit from user) according to the following criteria :\n",
        "     Unit                                                     Price  \n",
        "uptp 100 units                                             no charge\n",
        "Next 200 units                                              Rs 5 per unit\n",
        "After 200 units                                             Rs 10 per unit\n",
        "(For example if input unit is 350 than total bill amount is Rs.3500\n",
        "(For example if input unit is 97 than total bill amount is Rs.0\n",
        "(For example if input unit is 150 than total bill amount is Rs.750"
      ]
    },
    {
      "cell_type": "code",
      "execution_count": 8,
      "metadata": {
        "id": "hlj8WcMFJMBR",
        "colab": {
          "base_uri": "https://localhost:8080/"
        },
        "outputId": "752dcca2-2705-4cee-935d-230b07e049d6"
      },
      "outputs": [
        {
          "output_type": "stream",
          "name": "stdout",
          "text": [
            "Enter units of electricity consumed:350\n",
            "Total bill amount: Rs. 3500\n"
          ]
        }
      ],
      "source": [
        "units=int(input(\"Enter units of electricity consumed:\"))\n",
        "if units<= 100:\n",
        "  print(\"Total bill amount: Rs.0\")\n",
        "elif units<=200:\n",
        "  unit_price=5\n",
        "  print(\"Total bill amount: Rs.\",(units*unit_price))\n",
        "else:\n",
        "  unit_price=10\n",
        "  print(\"Total bill amount: Rs.\",(units*unit_price))"
      ]
    },
    {
      "cell_type": "markdown",
      "metadata": {
        "id": "dGZWUsa-JMBR"
      },
      "source": [
        "13) Take input of age of 3 people by user and determine oldest and youngest among them."
      ]
    },
    {
      "cell_type": "code",
      "execution_count": 4,
      "metadata": {
        "colab": {
          "base_uri": "https://localhost:8080/"
        },
        "id": "6KdBWGETJMBR",
        "outputId": "79b724c9-a149-42ec-f064-ae9ab5f50b86"
      },
      "outputs": [
        {
          "output_type": "stream",
          "name": "stdout",
          "text": [
            "Enter your age1: 4\n",
            "Enter your age2: 6\n",
            "Enter your age3: 5\n",
            "age2 is oldest\n",
            "age1 is youngest\n"
          ]
        }
      ],
      "source": [
        "age1=int(input(\"Enter your age1: \"))\n",
        "age2=int(input(\"Enter your age2: \"))\n",
        "age3=int(input(\"Enter your age3: \"))\n",
        "\n",
        "if age1>=age2 and age1>=age3:\n",
        "  old=age1\n",
        "  print(\"age1 is oldest\")\n",
        "  if age2<=age3:\n",
        "    print(\"age2 is youngest\")\n",
        "  else:\n",
        "    print(\"age3 is youngest\")\n",
        "\n",
        "elif age2>=age3 and age2>=age1:\n",
        "  old=age2\n",
        "  print(\"age2 is oldest\")\n",
        "  if age3<=age1:\n",
        "    print(\"age3 is youngest\")\n",
        "  else:\n",
        "    print(\"age1 is youngest\")\n",
        "\n",
        "else:\n",
        "  print(\"age3 is oldest\")\n",
        "  if age1<=age2:\n",
        "    print(\"age1 is youngest\")\n",
        "  else:\n",
        "    print(\"age2 is youngest\")"
      ]
    }
  ],
  "metadata": {
    "kernelspec": {
      "display_name": "Python 3 (ipykernel)",
      "language": "python",
      "name": "python3"
    },
    "language_info": {
      "codemirror_mode": {
        "name": "ipython",
        "version": 3
      },
      "file_extension": ".py",
      "mimetype": "text/x-python",
      "name": "python",
      "nbconvert_exporter": "python",
      "pygments_lexer": "ipython3",
      "version": "3.11.5"
    },
    "colab": {
      "provenance": []
    }
  },
  "nbformat": 4,
  "nbformat_minor": 0
}