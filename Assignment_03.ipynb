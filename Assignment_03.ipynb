{
  "nbformat": 4,
  "nbformat_minor": 0,
  "metadata": {
    "colab": {
      "provenance": []
    },
    "kernelspec": {
      "name": "python3",
      "display_name": "Python 3"
    },
    "language_info": {
      "name": "python"
    }
  },
  "cells": [
    {
      "cell_type": "markdown",
      "source": [
        "**Strings Assignment**\n"
      ],
      "metadata": {
        "id": "Kc2IMIk7g70L"
      }
    },
    {
      "cell_type": "markdown",
      "source": [
        "1. Write a program that accepts a string from user. Your program should count and display number of\n",
        "vowels in that string."
      ],
      "metadata": {
        "id": "6XjaOHiYjspz"
      }
    },
    {
      "cell_type": "code",
      "execution_count": null,
      "metadata": {
        "colab": {
          "base_uri": "https://localhost:8080/"
        },
        "id": "ckKkk1-Vg4bU",
        "outputId": "0890161c-b06f-4682-905a-f164f06f7921"
      },
      "outputs": [
        {
          "output_type": "stream",
          "name": "stdout",
          "text": [
            "Enter any string value:Shoaib Naqvi\n",
            "Total vowels in the string: 5\n"
          ]
        }
      ],
      "source": [
        "str_value=input(\"Enter any string value:\")\n",
        "vowels=\"aeiouAEIOU\"\n",
        "count=0\n",
        "for char in str_value:\n",
        "  if char in vowels:\n",
        "    count+=1\n",
        "print(\"Total vowels in the string:\",count)"
      ]
    },
    {
      "cell_type": "markdown",
      "source": [
        "2. Write a program that reads a string from keyboard and display:\n",
        "* The number of uppercase letters in the string\n",
        "* The number of lowercase letters in the string\n",
        "* The number of digits in the string\n",
        "* The number of whitespace characters in the string"
      ],
      "metadata": {
        "id": "v3P3GTxWj4EU"
      }
    },
    {
      "cell_type": "code",
      "source": [
        "str_value=input(\"Enter any string value:\")\n",
        "count_upper=0\n",
        "count_lower=0\n",
        "count=0\n",
        "count_space=0\n",
        "for char in str_value:\n",
        "  if char.isupper():\n",
        "    count_upper += 1\n",
        "  if char.islower():\n",
        "    count_lower += 1\n",
        "  if char.isdigit():\n",
        "    count += 1\n",
        "  if char.isspace():\n",
        "    count_space += 1\n",
        "print(\"Total uppercase letters in the string:\",count_upper)\n",
        "print(\"Total lowercase letters in the string:\",count_lower)\n",
        "print(\"Total number of digits in the string:\",count)\n",
        "print(\"Total number of whitespaces characters in the string:\",count_space)"
      ],
      "metadata": {
        "id": "X2VUJlGTjZ_L",
        "colab": {
          "base_uri": "https://localhost:8080/"
        },
        "outputId": "a80427f7-714a-42fd-828f-2b50c1e3f77c"
      },
      "execution_count": null,
      "outputs": [
        {
          "output_type": "stream",
          "name": "stdout",
          "text": [
            "Enter any string value:Shoaib 12 34 56\n",
            "Total uppercase letters in the string: 1\n",
            "Total lowercase letters in the string: 5\n",
            "Total number of digits in the string: 6\n",
            "Total number of whitespaces characters in the string: 3\n"
          ]
        }
      ]
    },
    {
      "cell_type": "markdown",
      "source": [
        "3. Write a Python program that accepts a string from user. Your program should create and display a\n",
        "new string where the first and last characters have been exchanged.\n",
        "For example if the user enters the string 'HELLO' then new string would be 'OELLH'"
      ],
      "metadata": {
        "id": "L0tMHI2pj44z"
      }
    },
    {
      "cell_type": "code",
      "source": [
        "str_value=input(\"Enter any string value:\")\n",
        "str_value = str_value[-1] + str_value[1:-1] + str_value[0]\n",
        "print(str_value)"
      ],
      "metadata": {
        "id": "EGt5vPKBkEc0",
        "colab": {
          "base_uri": "https://localhost:8080/"
        },
        "outputId": "32356406-dc16-4c18-9b27-f51128aafeb8"
      },
      "execution_count": null,
      "outputs": [
        {
          "output_type": "stream",
          "name": "stdout",
          "text": [
            "Enter any string value:HELLO\n",
            "OELLH\n"
          ]
        }
      ]
    },
    {
      "cell_type": "markdown",
      "source": [
        "4. Write a Python program that accepts a string from user. Your program should create a new string in\n",
        "reverse of first string and display it.\n",
        "For example if the user enters the string 'EXAM' then new string would be 'MAXE'"
      ],
      "metadata": {
        "id": "AbtVWoPBkLuC"
      }
    },
    {
      "cell_type": "code",
      "source": [
        "str_value=input(\"Enter any string value:\")\n",
        "str_value = str_value[::-1]\n",
        "print(str_value)"
      ],
      "metadata": {
        "id": "qVTAKBWKkNsC",
        "colab": {
          "base_uri": "https://localhost:8080/"
        },
        "outputId": "c4820e36-2196-48df-ec39-24573411e6e4"
      },
      "execution_count": null,
      "outputs": [
        {
          "output_type": "stream",
          "name": "stdout",
          "text": [
            "Enter any string value:EXAM\n",
            "MAXE\n"
          ]
        }
      ]
    },
    {
      "cell_type": "markdown",
      "source": [
        "5. Write a Python program that accepts a string from user. Your program should create a new string by\n",
        "shifting one position to left.\n",
        "For example if the user enters the string 'examination 2021' then new string would be 'xamination\n",
        "2021e'"
      ],
      "metadata": {
        "id": "kP3bBcPYkOGa"
      }
    },
    {
      "cell_type": "code",
      "source": [
        "str_value=input(\"Enter any string value:\")\n",
        "str_value = str_value[1:] + str_value[0]\n",
        "print(str_value)"
      ],
      "metadata": {
        "id": "CxhHIbLWkPzy",
        "colab": {
          "base_uri": "https://localhost:8080/"
        },
        "outputId": "d8dde34e-48f8-4fbf-8d7b-2f6ccd3204dd"
      },
      "execution_count": null,
      "outputs": [
        {
          "output_type": "stream",
          "name": "stdout",
          "text": [
            "Enter any string value:examination 2021\n",
            "xamination 2021e\n"
          ]
        }
      ]
    },
    {
      "cell_type": "markdown",
      "source": [
        "6. Write a program that asks the user to input his name and print its initials. Assuming that the user\n",
        "always types first name, middle name and last name and does not include any unnecessary spaces.\n",
        "For example, if the user enters Ajay Kumar Garg the program should display A. K. G.\n",
        "Note:Don't use split() method"
      ],
      "metadata": {
        "id": "sAZn0ILakQO6"
      }
    },
    {
      "cell_type": "code",
      "source": [
        "str_value=input(\"Enter your name (first name, middle name and last name):\")\n",
        "values=\"\"\n",
        "for char in str_value:\n",
        "  if char.isupper():\n",
        "    values+=char+\". \"\n",
        "print(values)"
      ],
      "metadata": {
        "id": "IAiJpfDjkS5S",
        "colab": {
          "base_uri": "https://localhost:8080/"
        },
        "outputId": "0abee224-f2dc-435b-b7c6-0d20c08d47de"
      },
      "execution_count": null,
      "outputs": [
        {
          "output_type": "stream",
          "name": "stdout",
          "text": [
            "Enter your name (first name, middle name and last name):Shoaib Naqvi\n",
            "S. N. \n"
          ]
        }
      ]
    },
    {
      "cell_type": "markdown",
      "source": [
        "7. A palindrome is a string that reads the same backward as forward. For example, the words dad,\n",
        "madam and radar are all palindromes. Write a programs that determines whether the string is a\n",
        "palindrome.\n",
        "Note: do not use reverse() method"
      ],
      "metadata": {
        "id": "0az9LEUPkS_C"
      }
    },
    {
      "cell_type": "code",
      "source": [
        "str_value1=input(\"Enter any string value:\")\n",
        "str_value2 = str_value1[::-1]\n",
        "if str_value1==str_value2:\n",
        "  print(\"This word is palindrome \",str_value1)\n",
        "else:\n",
        "  print(\"This word is not palindrome \",str_value1)"
      ],
      "metadata": {
        "id": "eppAEO6XkVKb",
        "colab": {
          "base_uri": "https://localhost:8080/"
        },
        "outputId": "ca15c2d9-14bd-4459-df33-e8f0178b4fb7"
      },
      "execution_count": null,
      "outputs": [
        {
          "output_type": "stream",
          "name": "stdout",
          "text": [
            "Enter any string value:dsaa\n",
            "This word is not palindrome  dsaa\n"
          ]
        }
      ]
    },
    {
      "cell_type": "markdown",
      "source": [
        "8. Write a program that display following output:\n",
        "SHIFT\n",
        "HIFTS\n",
        "IFTSH\n",
        "FTSHI\n",
        "TSHIF\n",
        "SHIFT"
      ],
      "metadata": {
        "id": "P282m3k0kVUi"
      }
    },
    {
      "cell_type": "code",
      "source": [
        "str_value=input(\"Enter any string value:\")\n",
        "str_value = str_value[:] + \" \" + str_value[1:] + str_value[0] + \" \" + str_value[2:] + str_value[:2] + \" \" + str_value[3:] + str_value[:3] + \" \" + str_value[4:] + str_value[:4] + \" \" + str_value[:]\n",
        "print(str_value)"
      ],
      "metadata": {
        "id": "MY1itRf1kXND",
        "colab": {
          "base_uri": "https://localhost:8080/"
        },
        "outputId": "9fb014d9-5fba-45f3-b09e-93f6b5462970"
      },
      "execution_count": null,
      "outputs": [
        {
          "output_type": "stream",
          "name": "stdout",
          "text": [
            "Enter any string value:SHIFT\n",
            "SHIFT HIFTS IFTSH FTSHI TSHIF SHIFT\n"
          ]
        }
      ]
    },
    {
      "cell_type": "markdown",
      "source": [
        "9. Write a program in python that accepts a string to setup a passwords. Your entered password must\n",
        "meet the following requirements:\n",
        "\n",
        "The password must be at least eight characters long.\n",
        "It must contain at least one uppercase letter.\n",
        "It must contain at least one lowercase letter.\n",
        "It must contain at least one numeric digit.\n",
        "Your program should perform this validation."
      ],
      "metadata": {
        "id": "Kob9vJiwkXbL"
      }
    },
    {
      "cell_type": "code",
      "source": [
        "password=input(\"Enter password to continue:\")\n",
        "if len(password) >= 8:\n",
        "  has_uppercase = any(char.isupper() for char in password)\n",
        "  has_lowercase = any(char.islower() for char in password)\n",
        "  has_digit = any(char.isdigit() for char in password)\n",
        "  if has_uppercase and has_lowercase and has_digit:\n",
        "    print(\"Logged in successfully\")\n",
        "  else:\n",
        "    print(\"Invalid password\")\n",
        "else:\n",
        "  print(\"Invalid password, must be at least eight characters long\")"
      ],
      "metadata": {
        "id": "Zdj3354YkYbD",
        "colab": {
          "base_uri": "https://localhost:8080/"
        },
        "outputId": "2ccbb676-b5a0-4475-bb17-31b907c719cc"
      },
      "execution_count": 38,
      "outputs": [
        {
          "output_type": "stream",
          "name": "stdout",
          "text": [
            "Enter password to continue:das1S\n",
            "Invalid password, must be at least eight characters long\n"
          ]
        }
      ]
    }
  ]
}