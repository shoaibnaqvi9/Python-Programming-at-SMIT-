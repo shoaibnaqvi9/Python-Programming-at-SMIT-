{
  "nbformat": 4,
  "nbformat_minor": 0,
  "metadata": {
    "colab": {
      "provenance": []
    },
    "kernelspec": {
      "name": "python3",
      "display_name": "Python 3"
    },
    "language_info": {
      "name": "python"
    }
  },
  "cells": [
    {
      "cell_type": "markdown",
      "source": [
        "**Looping Structures**"
      ],
      "metadata": {
        "id": "jL9DJFoLsW-K"
      }
    },
    {
      "cell_type": "markdown",
      "source": [
        "1. Write a Python program to print the numbers from 1 to 10 using a for loop."
      ],
      "metadata": {
        "id": "n9IgQuossRoT"
      }
    },
    {
      "cell_type": "code",
      "source": [
        "for i in range(1,11):\n",
        "  print(i)"
      ],
      "metadata": {
        "id": "PqSiLhLqsQ_z",
        "colab": {
          "base_uri": "https://localhost:8080/"
        },
        "outputId": "685d09ed-14e0-4ea0-e6db-909e75ef308d"
      },
      "execution_count": 1,
      "outputs": [
        {
          "output_type": "stream",
          "name": "stdout",
          "text": [
            "1\n",
            "2\n",
            "3\n",
            "4\n",
            "5\n",
            "6\n",
            "7\n",
            "8\n",
            "9\n",
            "10\n"
          ]
        }
      ]
    },
    {
      "cell_type": "markdown",
      "source": [
        "2. Write a Python program to print the numbers from 20 to 1 using a while loop."
      ],
      "metadata": {
        "id": "xrWVdBAgs9W2"
      }
    },
    {
      "cell_type": "code",
      "source": [
        "i=20\n",
        "while i>0:\n",
        "  print(i)\n",
        "  i=i-1"
      ],
      "metadata": {
        "colab": {
          "base_uri": "https://localhost:8080/"
        },
        "id": "-QKp-m39tEjv",
        "outputId": "fa3487e1-727f-4caf-d6c2-cb9860be9598"
      },
      "execution_count": 3,
      "outputs": [
        {
          "output_type": "stream",
          "name": "stdout",
          "text": [
            "20\n",
            "19\n",
            "18\n",
            "17\n",
            "16\n",
            "15\n",
            "14\n",
            "13\n",
            "12\n",
            "11\n",
            "10\n",
            "9\n",
            "8\n",
            "7\n",
            "6\n",
            "5\n",
            "4\n",
            "3\n",
            "2\n",
            "1\n"
          ]
        }
      ]
    },
    {
      "cell_type": "markdown",
      "source": [
        "3. Write a program to print even numbers from 1 to 10."
      ],
      "metadata": {
        "id": "1HQXoG-ltEvT"
      }
    },
    {
      "cell_type": "code",
      "source": [
        "for i in range(1,11):\n",
        "  if i%2==0:\n",
        "    print(i)"
      ],
      "metadata": {
        "colab": {
          "base_uri": "https://localhost:8080/"
        },
        "id": "muUCL7yetGaI",
        "outputId": "df523799-c84e-4aea-cdd3-f60188f4f54f"
      },
      "execution_count": 4,
      "outputs": [
        {
          "output_type": "stream",
          "name": "stdout",
          "text": [
            "2\n",
            "4\n",
            "6\n",
            "8\n",
            "10\n"
          ]
        }
      ]
    },
    {
      "cell_type": "markdown",
      "source": [
        "4. Write a program that prompts the user to enter a number n and prints all the\n",
        "numbers from 1 to n."
      ],
      "metadata": {
        "id": "f00-BCJgtGl_"
      }
    },
    {
      "cell_type": "code",
      "source": [
        "n=int(input(\"Enter any number:\"))\n",
        "for i in range(1,n+1):\n",
        "  print(i)"
      ],
      "metadata": {
        "colab": {
          "base_uri": "https://localhost:8080/"
        },
        "id": "gYXm_c_ftIYn",
        "outputId": "6e9f7edb-5823-497a-d4e0-ba229d287dcc"
      },
      "execution_count": 6,
      "outputs": [
        {
          "output_type": "stream",
          "name": "stdout",
          "text": [
            "Enter any number:6\n",
            "1\n",
            "2\n",
            "3\n",
            "4\n",
            "5\n",
            "6\n"
          ]
        }
      ]
    },
    {
      "cell_type": "markdown",
      "source": [
        "5. Write a program that prompts the user to enter a number n, and then prints all the\n",
        "odd numbers between 1 and n."
      ],
      "metadata": {
        "id": "d0RFqWTMtIoc"
      }
    },
    {
      "cell_type": "code",
      "source": [
        "n=int(input(\"Enter any number:\"))\n",
        "for i in range(1,n+1):\n",
        "  if i%2!=0:\n",
        "    print(i)"
      ],
      "metadata": {
        "colab": {
          "base_uri": "https://localhost:8080/"
        },
        "id": "jqSEq540tLHq",
        "outputId": "d6dc96ef-bff8-4243-a748-3b99007d9922"
      },
      "execution_count": 7,
      "outputs": [
        {
          "output_type": "stream",
          "name": "stdout",
          "text": [
            "Enter any number:10\n",
            "1\n",
            "3\n",
            "5\n",
            "7\n",
            "9\n"
          ]
        }
      ]
    },
    {
      "cell_type": "markdown",
      "source": [
        "6. Write a program that prints 'Happy Birthday!' five times on screen."
      ],
      "metadata": {
        "id": "BLdNsGrPtLdl"
      }
    },
    {
      "cell_type": "code",
      "source": [
        "for i in range(5):\n",
        "  print(\"Happy Birthday!\")"
      ],
      "metadata": {
        "colab": {
          "base_uri": "https://localhost:8080/"
        },
        "id": "UiEEW4IltNft",
        "outputId": "201e8925-bf30-4d20-b384-04db0b3cfca7"
      },
      "execution_count": 8,
      "outputs": [
        {
          "output_type": "stream",
          "name": "stdout",
          "text": [
            "Happy Birthday!\n",
            "Happy Birthday!\n",
            "Happy Birthday!\n",
            "Happy Birthday!\n",
            "Happy Birthday!\n"
          ]
        }
      ]
    },
    {
      "cell_type": "markdown",
      "source": [
        "7. Write a program that takes a number n as input from the user and generates the first\n",
        "n terms of the series formed by squaring the natural numbers.\n",
        "Sample output\n",
        "Enter a number: 6\n",
        "The first 6 terms of the series are:\n",
        "1 4 9 16 25 36"
      ],
      "metadata": {
        "id": "iEKQqnRUtNod"
      }
    },
    {
      "cell_type": "code",
      "source": [
        "n=int(input(\"Enter any number:\"))\n",
        "for i in range(1, n + 1):\n",
        "  print(i * i,end=\" \")"
      ],
      "metadata": {
        "colab": {
          "base_uri": "https://localhost:8080/"
        },
        "id": "A56AIYFctRQl",
        "outputId": "87ad377b-cc4d-4706-e9ea-8eab6e8f786f"
      },
      "execution_count": 11,
      "outputs": [
        {
          "output_type": "stream",
          "name": "stdout",
          "text": [
            "Enter any number:5\n",
            "1 4 9 16 25 "
          ]
        }
      ]
    },
    {
      "cell_type": "markdown",
      "source": [
        "8. Write a program that prompts the user to input a number and prints its multiplication\n",
        "table."
      ],
      "metadata": {
        "id": "YoHQXJa2tRYi"
      }
    },
    {
      "cell_type": "code",
      "source": [
        "num=int(input(\"Enter any number:\"))\n",
        "ending=int(input(\"Enter the ending number:\"))\n",
        "for i in range(1,ending+1):\n",
        "  print(num,\"x\",i,\"=\",num*i)"
      ],
      "metadata": {
        "colab": {
          "base_uri": "https://localhost:8080/"
        },
        "id": "X5QwD9u3tS40",
        "outputId": "b63e59dc-853a-4c4b-9c99-783b11d0d609"
      },
      "execution_count": 13,
      "outputs": [
        {
          "output_type": "stream",
          "name": "stdout",
          "text": [
            "Enter any number:2\n",
            "Enter the ending number:10\n",
            "2 x 1 = 2\n",
            "2 x 2 = 4\n",
            "2 x 3 = 6\n",
            "2 x 4 = 8\n",
            "2 x 5 = 10\n",
            "2 x 6 = 12\n",
            "2 x 7 = 14\n",
            "2 x 8 = 16\n",
            "2 x 9 = 18\n",
            "2 x 10 = 20\n"
          ]
        }
      ]
    },
    {
      "cell_type": "markdown",
      "source": [
        "9. Write a Python program to print the first 8 terms of an arithmetic progression starting\n",
        "with 3 and having a common difference of 4.\n",
        "The program should output the following sequence:\n",
        "3 7 11 15 19 23 27 31"
      ],
      "metadata": {
        "id": "GfpWnguvtTBX"
      }
    },
    {
      "cell_type": "code",
      "source": [
        "for i in range(3,32,4):\n",
        "  print(i,end=\" \")"
      ],
      "metadata": {
        "colab": {
          "base_uri": "https://localhost:8080/"
        },
        "id": "l722hWfXtUhT",
        "outputId": "87f2fc31-1fb5-4e47-aa28-79dcaa389fda"
      },
      "execution_count": 16,
      "outputs": [
        {
          "output_type": "stream",
          "name": "stdout",
          "text": [
            "3 7 11 15 19 23 27 31 "
          ]
        }
      ]
    },
    {
      "cell_type": "markdown",
      "source": [
        "10. Write a Python program to print the first 6 terms of a geometric sequence starting\n",
        "with 2 and having a common ratio of 3.\n",
        "The program should output the following sequence:\n",
        "2 6 18 54 162 486"
      ],
      "metadata": {
        "id": "ZLJZ0s19tUol"
      }
    },
    {
      "cell_type": "code",
      "source": [
        "for i in range(6):\n",
        "    number_seq = 2 * (3 ** i)\n",
        "    print(number_seq, end=\" \")"
      ],
      "metadata": {
        "colab": {
          "base_uri": "https://localhost:8080/"
        },
        "id": "u5yTBY1otV6Y",
        "outputId": "5c9a5039-f176-4e67-d6d9-ae4a882b65d0"
      },
      "execution_count": 19,
      "outputs": [
        {
          "output_type": "stream",
          "name": "stdout",
          "text": [
            "2 6 18 54 162 486 "
          ]
        }
      ]
    },
    {
      "cell_type": "markdown",
      "source": [
        "11. Write a program that asks the user for a positive integer value. The program should\n",
        "calculate the sum of all the integers from 1 up to the number entered. For example, if\n",
        "the user enters 20, the loop will find the sum of 1, 2, 3, 4, ... 20."
      ],
      "metadata": {
        "id": "nQPvR60UtWBY"
      }
    },
    {
      "cell_type": "code",
      "source": [
        "n=int(input(\"Enter any number:\"))\n",
        "sum=0\n",
        "for i in range(1,n+1):\n",
        "  sum=sum+i\n",
        "print(sum)"
      ],
      "metadata": {
        "colab": {
          "base_uri": "https://localhost:8080/"
        },
        "id": "sB9o3cbKtYGw",
        "outputId": "0a198cac-35d5-4774-9f73-c489968d0805"
      },
      "execution_count": 21,
      "outputs": [
        {
          "output_type": "stream",
          "name": "stdout",
          "text": [
            "Enter any number:10\n",
            "55\n"
          ]
        }
      ]
    },
    {
      "cell_type": "markdown",
      "source": [
        "12. write a program that takes a positive integer N as input and calculates the sum of\n",
        "the reciprocals of all numbers from 1 up to N. The program should display the final sum.\n",
        "\n",
        "Output of the program should be like:\n",
        "Enter a positive integer: 5\n",
        "The sum of reciprocals from 1 to 5 is: 2.28"
      ],
      "metadata": {
        "id": "ZoezCgBKtYN-"
      }
    },
    {
      "cell_type": "code",
      "source": [
        "n=int(input(\"Enter any number:\"))\n",
        "sum=0\n",
        "for i in range(1,n+1):\n",
        "  sum=sum+(1/i)\n",
        "print(sum)"
      ],
      "metadata": {
        "colab": {
          "base_uri": "https://localhost:8080/"
        },
        "id": "QHKmAJBgtZ8X",
        "outputId": "915be8c3-f588-4286-d78f-9534179f3b75"
      },
      "execution_count": 22,
      "outputs": [
        {
          "output_type": "stream",
          "name": "stdout",
          "text": [
            "Enter any number:5\n",
            "2.283333333333333\n"
          ]
        }
      ]
    },
    {
      "cell_type": "markdown",
      "source": [
        "13. Write a program that prompts the user to enter a number and repeats this process 5\n",
        "times. The program should accumulate the numbers entered and then display the final\n",
        "running total.\n",
        "Sample Output:\n",
        "Enter a number: 10\n",
        "Enter a number: 15\n",
        "Enter a number: 35\n",
        "Enter a number: 40\n",
        "Enter a number: 50\n",
        "The final running total is: 150"
      ],
      "metadata": {
        "id": "13xLtgPYtaQ9"
      }
    },
    {
      "cell_type": "code",
      "source": [
        "t_sum=0\n",
        "for i in range(5):\n",
        "  e=int(input(\"Enter any number:\"))\n",
        "  t_sum = t_sum + e\n",
        "print(t_sum)"
      ],
      "metadata": {
        "colab": {
          "base_uri": "https://localhost:8080/"
        },
        "id": "TdnknGndtcdv",
        "outputId": "e3e62cc5-f563-4a70-99c5-0b9541f5961a"
      },
      "execution_count": 30,
      "outputs": [
        {
          "output_type": "stream",
          "name": "stdout",
          "text": [
            "Enter any number:1\n",
            "Enter any number:2\n",
            "Enter any number:3\n",
            "Enter any number:4\n",
            "Enter any number:5\n",
            "15\n"
          ]
        }
      ]
    },
    {
      "cell_type": "markdown",
      "source": [
        "14. Write a program that prompts the user to enter a positive integer and calculates its\n",
        "factorial. The factorial of a positive integer 'n' is denoted as 'n!' and is calculated by\n",
        "multiplying all the integers from 1 to 'n' together. For example, the factorial of 5\n",
        "(denoted as 5!) is calculated as 1 x 2 x 3 x 4 x 5.\n",
        "The program should display the factorial value if the input is a positive number, or\n",
        "display a message stating that the factorial does not exist for negative numbers.\n",
        "Additionally, for an input of zero, the program should output that the factorial of 0 is 1."
      ],
      "metadata": {
        "id": "yj1AlR-mtck1"
      }
    },
    {
      "cell_type": "code",
      "source": [
        "n=int(input(\"Enter any number:\"))\n",
        "f=1\n",
        "if n<0:\n",
        "  print(\"Factorial does not exist for negative numbers\")\n",
        "elif n==0:\n",
        "  print(\"Factorial of 0 is 1\")\n",
        "else:\n",
        "  for i in range(1,n+1):\n",
        "    f=f*i\n",
        "  print(f)"
      ],
      "metadata": {
        "colab": {
          "base_uri": "https://localhost:8080/"
        },
        "id": "XKMCKIdM0W92",
        "outputId": "8ad9e297-a957-4d71-a9d6-81bff3bb0bfc"
      },
      "execution_count": 38,
      "outputs": [
        {
          "output_type": "stream",
          "name": "stdout",
          "text": [
            "Enter any number:5\n",
            "120\n"
          ]
        }
      ]
    },
    {
      "cell_type": "markdown",
      "source": [
        "15. Write a Python program that prompts the user to enter a base number and an\n",
        "exponent, and then calculates the power of the base to the exponent. The program\n",
        "should not use the exponentiation operator (**) or the math.pow() function. The\n",
        "program should handle both positive and negative exponents."
      ],
      "metadata": {
        "id": "fEA3xOsrteCw"
      }
    },
    {
      "cell_type": "code",
      "source": [
        "num=int(input(\"Enter any base number:\"))\n",
        "exp=int(input(\"Enter exponent:\"))\n",
        "p=1\n",
        "if exp==0:\n",
        "  p = 1\n",
        "elif exp>0:\n",
        "  for i in range(1,exp+1):\n",
        "    p *= num\n",
        "else:\n",
        "  for i in range(1,abs(exp)+1):\n",
        "    p /= num\n",
        "print(p)"
      ],
      "metadata": {
        "colab": {
          "base_uri": "https://localhost:8080/"
        },
        "id": "RYcAlvCDtfEj",
        "outputId": "526951ec-ad9f-4285-af90-b0493bb39c78"
      },
      "execution_count": 50,
      "outputs": [
        {
          "output_type": "stream",
          "name": "stdout",
          "text": [
            "Enter any base number:3\n",
            "Enter exponent:3\n",
            "27\n"
          ]
        }
      ]
    }
  ]
}